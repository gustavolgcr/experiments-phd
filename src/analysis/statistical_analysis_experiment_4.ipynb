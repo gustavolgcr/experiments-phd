{
 "cells": [
  {
   "cell_type": "markdown",
   "id": "c73cd73e",
   "metadata": {},
   "source": [
    "# Experimento 4 - Alucinações Factuais, Interpretativas e Contextuais\n",
    "**Objetivo**: Avaliar se o uso correto do histórico factual reduz a ocorrência de alucinações na etapa de personalização, distinguindo entre três tipos principais: (i) erros factuais (valores incorretos ou inventados), (ii) inferências injustificadas a partir dos dados (interpretações subjetivas), e (iii) inadequações no alinhamento entre a resposta e o perfil do usuário.\n",
    "\n",
    "**Metodologia**\n",
    "* Escolher 3 perfis de usuário,\n",
    "  * Para cada perfil, elaborar 5 perguntas,\n",
    "    * Para cada pergunda, responder utilizando o PersonaReAct.\n",
    "    * Submeter o par de respostas (com e sem o módulo de personalização) à LLM avaliadora.\n",
    "\n",
    "Critérios de avaliação da LLM:\n",
    "* Inferencias Nao Justificadas,\n",
    "* Coerencia Com Perfil.\n",
    "\n",
    "Cada critério foi aplicado 20 vezes para cada resposta e uma média foi calculada."
   ]
  },
  {
   "cell_type": "code",
   "execution_count": 1,
   "id": "5fc1a159",
   "metadata": {},
   "outputs": [
    {
     "data": {
      "text/html": [
       "<div>\n",
       "<style scoped>\n",
       "    .dataframe tbody tr th:only-of-type {\n",
       "        vertical-align: middle;\n",
       "    }\n",
       "\n",
       "    .dataframe tbody tr th {\n",
       "        vertical-align: top;\n",
       "    }\n",
       "\n",
       "    .dataframe thead th {\n",
       "        text-align: right;\n",
       "    }\n",
       "</style>\n",
       "<table border=\"1\" class=\"dataframe\">\n",
       "  <thead>\n",
       "    <tr style=\"text-align: right;\">\n",
       "      <th></th>\n",
       "      <th>pergunta</th>\n",
       "      <th>perfil</th>\n",
       "      <th>criterio</th>\n",
       "      <th>score</th>\n",
       "    </tr>\n",
       "  </thead>\n",
       "  <tbody>\n",
       "    <tr>\n",
       "      <th>0</th>\n",
       "      <td>O jogador Yago Pikachu correu muito no jogo co...</td>\n",
       "      <td>Torcedor do Time</td>\n",
       "      <td>InferenciasNaoJustificadas</td>\n",
       "      <td>3.17</td>\n",
       "    </tr>\n",
       "    <tr>\n",
       "      <th>1</th>\n",
       "      <td>O jogador Yago Pikachu correu muito no jogo co...</td>\n",
       "      <td>Torcedor do Time</td>\n",
       "      <td>InferenciasNaoJustificadas</td>\n",
       "      <td>3.10</td>\n",
       "    </tr>\n",
       "    <tr>\n",
       "      <th>2</th>\n",
       "      <td>O jogador Yago Pikachu correu muito no jogo co...</td>\n",
       "      <td>Torcedor do Time</td>\n",
       "      <td>InferenciasNaoJustificadas</td>\n",
       "      <td>3.23</td>\n",
       "    </tr>\n",
       "    <tr>\n",
       "      <th>3</th>\n",
       "      <td>O jogador Yago Pikachu correu muito no jogo co...</td>\n",
       "      <td>Torcedor do Time</td>\n",
       "      <td>InferenciasNaoJustificadas</td>\n",
       "      <td>3.04</td>\n",
       "    </tr>\n",
       "    <tr>\n",
       "      <th>4</th>\n",
       "      <td>O jogador Yago Pikachu correu muito no jogo co...</td>\n",
       "      <td>Torcedor do Time</td>\n",
       "      <td>InferenciasNaoJustificadas</td>\n",
       "      <td>3.15</td>\n",
       "    </tr>\n",
       "  </tbody>\n",
       "</table>\n",
       "</div>"
      ],
      "text/plain": [
       "                                            pergunta            perfil  \\\n",
       "0  O jogador Yago Pikachu correu muito no jogo co...  Torcedor do Time   \n",
       "1  O jogador Yago Pikachu correu muito no jogo co...  Torcedor do Time   \n",
       "2  O jogador Yago Pikachu correu muito no jogo co...  Torcedor do Time   \n",
       "3  O jogador Yago Pikachu correu muito no jogo co...  Torcedor do Time   \n",
       "4  O jogador Yago Pikachu correu muito no jogo co...  Torcedor do Time   \n",
       "\n",
       "                     criterio  score  \n",
       "0  InferenciasNaoJustificadas   3.17  \n",
       "1  InferenciasNaoJustificadas   3.10  \n",
       "2  InferenciasNaoJustificadas   3.23  \n",
       "3  InferenciasNaoJustificadas   3.04  \n",
       "4  InferenciasNaoJustificadas   3.15  "
      ]
     },
     "execution_count": 1,
     "metadata": {},
     "output_type": "execute_result"
    }
   ],
   "source": [
    "import json\n",
    "import pandas as pd\n",
    "\n",
    "# Carregar o JSON com os resultados do experimento 4\n",
    "with open(\"/Users/gustavolgcr/doutorado/implementacoes/experiments/src/results/evaluation_results_icl_with_repetitions_experiment_4.json\", \"r\", encoding=\"utf-8\") as f:\n",
    "    data = json.load(f)\n",
    "\n",
    "# Transformar em DataFrame estruturado\n",
    "rows = []\n",
    "for item in data:\n",
    "    for score in item[\"scores\"]:\n",
    "        rows.append({\n",
    "            \"pergunta\": item[\"pergunta\"],\n",
    "            \"perfil\": item[\"perfil\"],\n",
    "            \"criterio\": item[\"criterio\"],\n",
    "            \"score\": score\n",
    "        })\n",
    "\n",
    "df = pd.DataFrame(rows)\n",
    "df.head()"
   ]
  },
  {
   "cell_type": "code",
   "execution_count": 2,
   "id": "f17e9a21",
   "metadata": {},
   "outputs": [
    {
     "data": {
      "text/html": [
       "<div>\n",
       "<style scoped>\n",
       "    .dataframe tbody tr th:only-of-type {\n",
       "        vertical-align: middle;\n",
       "    }\n",
       "\n",
       "    .dataframe tbody tr th {\n",
       "        vertical-align: top;\n",
       "    }\n",
       "\n",
       "    .dataframe thead th {\n",
       "        text-align: right;\n",
       "    }\n",
       "</style>\n",
       "<table border=\"1\" class=\"dataframe\">\n",
       "  <thead>\n",
       "    <tr style=\"text-align: right;\">\n",
       "      <th></th>\n",
       "      <th>Critério</th>\n",
       "      <th>Média</th>\n",
       "      <th>Desvio Padrão</th>\n",
       "    </tr>\n",
       "  </thead>\n",
       "  <tbody>\n",
       "    <tr>\n",
       "      <th>0</th>\n",
       "      <td>CoerenciaComPerfil</td>\n",
       "      <td>9.03</td>\n",
       "      <td>1.25</td>\n",
       "    </tr>\n",
       "    <tr>\n",
       "      <th>1</th>\n",
       "      <td>InferenciasNaoJustificadas</td>\n",
       "      <td>7.75</td>\n",
       "      <td>1.93</td>\n",
       "    </tr>\n",
       "  </tbody>\n",
       "</table>\n",
       "</div>"
      ],
      "text/plain": [
       "                     Critério  Média  Desvio Padrão\n",
       "0          CoerenciaComPerfil   9.03           1.25\n",
       "1  InferenciasNaoJustificadas   7.75           1.93"
      ]
     },
     "execution_count": 2,
     "metadata": {},
     "output_type": "execute_result"
    }
   ],
   "source": [
    "agg = df.groupby(\"criterio\")[\"score\"].agg([\"mean\", \"std\"]).round(2).reset_index()\n",
    "agg.columns = [\"Critério\", \"Média\", \"Desvio Padrão\"]\n",
    "agg"
   ]
  },
  {
   "cell_type": "code",
   "execution_count": 3,
   "id": "911a9d72",
   "metadata": {},
   "outputs": [
    {
     "data": {
      "image/png": "[encoded data removed]",
      "text/plain": [
       "<Figure size 1000x600 with 1 Axes>"
      ]
     },
     "metadata": {},
     "output_type": "display_data"
    }
   ],
   "source": [
    "import matplotlib.pyplot as plt\n",
    "\n",
    "plt.figure(figsize=(10, 6))\n",
    "plt.bar(agg[\"Critério\"], agg[\"Média\"], yerr=agg[\"Desvio Padrão\"], capsize=6)\n",
    "plt.ylabel(\"Score Médio (0–10)\")\n",
    "plt.xticks(rotation=45, ha=\"right\")\n",
    "plt.title(\"Média dos Scores por Critério - Experimento 4\")\n",
    "plt.tight_layout()\n",
    "plt.show()"
   ]
  },
  {
   "cell_type": "code",
   "execution_count": 4,
   "id": "4299c037",
   "metadata": {},
   "outputs": [
    {
     "name": "stderr",
     "output_type": "stream",
     "text": [
      "/var/folders/57/zxs7x8nd6g38q929k2lys2n80000gn/T/ipykernel_56045/1449299534.py:4: FutureWarning: \n",
      "\n",
      "Passing `palette` without assigning `hue` is deprecated and will be removed in v0.14.0. Assign the `x` variable to `hue` and set `legend=False` for the same effect.\n",
      "\n",
      "  sns.boxplot(data=df, x=\"criterio\", y=\"score\", palette=\"Set2\")\n"
     ]
    },
    {
     "data": {
      "image/png": "[encoded data removed]",
      "text/plain": [
       "<Figure size 1200x600 with 1 Axes>"
      ]
     },
     "metadata": {},
     "output_type": "display_data"
    }
   ],
   "source": [
    "import seaborn as sns\n",
    "\n",
    "plt.figure(figsize=(12, 6))\n",
    "sns.boxplot(data=df, x=\"criterio\", y=\"score\", palette=\"Set2\")\n",
    "plt.title(\"Distribuição dos Scores por Critério\")\n",
    "plt.ylabel(\"Score (0–10)\")\n",
    "plt.xlabel(\"Critério\")\n",
    "plt.xticks(rotation=45, ha=\"right\")\n",
    "plt.tight_layout()\n",
    "plt.show()"
   ]
  },
  {
   "cell_type": "code",
   "execution_count": 5,
   "id": "906705aa",
   "metadata": {},
   "outputs": [
    {
     "data": {
      "text/html": [
       "<div>\n",
       "<style scoped>\n",
       "    .dataframe tbody tr th:only-of-type {\n",
       "        vertical-align: middle;\n",
       "    }\n",
       "\n",
       "    .dataframe tbody tr th {\n",
       "        vertical-align: top;\n",
       "    }\n",
       "\n",
       "    .dataframe thead th {\n",
       "        text-align: right;\n",
       "    }\n",
       "</style>\n",
       "<table border=\"1\" class=\"dataframe\">\n",
       "  <thead>\n",
       "    <tr style=\"text-align: right;\">\n",
       "      <th></th>\n",
       "      <th>perfil</th>\n",
       "      <th>criterio</th>\n",
       "      <th>mean</th>\n",
       "      <th>std</th>\n",
       "    </tr>\n",
       "  </thead>\n",
       "  <tbody>\n",
       "    <tr>\n",
       "      <th>0</th>\n",
       "      <td>Narrador do Jogo</td>\n",
       "      <td>CoerenciaComPerfil</td>\n",
       "      <td>9.49</td>\n",
       "      <td>0.30</td>\n",
       "    </tr>\n",
       "    <tr>\n",
       "      <th>1</th>\n",
       "      <td>Narrador do Jogo</td>\n",
       "      <td>InferenciasNaoJustificadas</td>\n",
       "      <td>9.14</td>\n",
       "      <td>0.64</td>\n",
       "    </tr>\n",
       "    <tr>\n",
       "      <th>2</th>\n",
       "      <td>Torcedor do Time</td>\n",
       "      <td>CoerenciaComPerfil</td>\n",
       "      <td>8.24</td>\n",
       "      <td>1.89</td>\n",
       "    </tr>\n",
       "    <tr>\n",
       "      <th>3</th>\n",
       "      <td>Torcedor do Time</td>\n",
       "      <td>InferenciasNaoJustificadas</td>\n",
       "      <td>5.77</td>\n",
       "      <td>1.93</td>\n",
       "    </tr>\n",
       "    <tr>\n",
       "      <th>4</th>\n",
       "      <td>Técnico do Time</td>\n",
       "      <td>CoerenciaComPerfil</td>\n",
       "      <td>9.36</td>\n",
       "      <td>0.34</td>\n",
       "    </tr>\n",
       "    <tr>\n",
       "      <th>5</th>\n",
       "      <td>Técnico do Time</td>\n",
       "      <td>InferenciasNaoJustificadas</td>\n",
       "      <td>8.34</td>\n",
       "      <td>0.95</td>\n",
       "    </tr>\n",
       "  </tbody>\n",
       "</table>\n",
       "</div>"
      ],
      "text/plain": [
       "             perfil                    criterio  mean   std\n",
       "0  Narrador do Jogo          CoerenciaComPerfil  9.49  0.30\n",
       "1  Narrador do Jogo  InferenciasNaoJustificadas  9.14  0.64\n",
       "2  Torcedor do Time          CoerenciaComPerfil  8.24  1.89\n",
       "3  Torcedor do Time  InferenciasNaoJustificadas  5.77  1.93\n",
       "4   Técnico do Time          CoerenciaComPerfil  9.36  0.34\n",
       "5   Técnico do Time  InferenciasNaoJustificadas  8.34  0.95"
      ]
     },
     "execution_count": 5,
     "metadata": {},
     "output_type": "execute_result"
    }
   ],
   "source": [
    "agg_perfil = df.groupby([\"perfil\", \"criterio\"])[\"score\"].agg([\"mean\", \"std\"]).round(2).reset_index()\n",
    "agg_perfil"
   ]
  },
  {
   "cell_type": "code",
   "execution_count": 6,
   "id": "1dfc08b0",
   "metadata": {},
   "outputs": [
    {
     "data": {
      "text/html": [
       "<div>\n",
       "<style scoped>\n",
       "    .dataframe tbody tr th:only-of-type {\n",
       "        vertical-align: middle;\n",
       "    }\n",
       "\n",
       "    .dataframe tbody tr th {\n",
       "        vertical-align: top;\n",
       "    }\n",
       "\n",
       "    .dataframe thead th {\n",
       "        text-align: right;\n",
       "    }\n",
       "</style>\n",
       "<table border=\"1\" class=\"dataframe\">\n",
       "  <thead>\n",
       "    <tr style=\"text-align: right;\">\n",
       "      <th></th>\n",
       "      <th>Critério</th>\n",
       "      <th>p-valor</th>\n",
       "      <th>Significativo (α=0.05)</th>\n",
       "    </tr>\n",
       "  </thead>\n",
       "  <tbody>\n",
       "    <tr>\n",
       "      <th>0</th>\n",
       "      <td>InferenciasNaoJustificadas</td>\n",
       "      <td>0.0</td>\n",
       "      <td>✅</td>\n",
       "    </tr>\n",
       "    <tr>\n",
       "      <th>1</th>\n",
       "      <td>CoerenciaComPerfil</td>\n",
       "      <td>0.0</td>\n",
       "      <td>✅</td>\n",
       "    </tr>\n",
       "  </tbody>\n",
       "</table>\n",
       "</div>"
      ],
      "text/plain": [
       "                     Critério  p-valor Significativo (α=0.05)\n",
       "0  InferenciasNaoJustificadas      0.0                      ✅\n",
       "1          CoerenciaComPerfil      0.0                      ✅"
      ]
     },
     "execution_count": 6,
     "metadata": {},
     "output_type": "execute_result"
    }
   ],
   "source": [
    "from scipy.stats import f_oneway\n",
    "\n",
    "resultados_anova = []\n",
    "for criterio in df[\"criterio\"].unique():\n",
    "    sub = df[df[\"criterio\"] == criterio]\n",
    "    grupos = [sub[sub[\"perfil\"] == perfil][\"score\"] for perfil in sub[\"perfil\"].unique()]\n",
    "    stat, p = f_oneway(*grupos)\n",
    "    resultados_anova.append({\n",
    "        \"Critério\": criterio,\n",
    "        \"p-valor\": round(p, 4),\n",
    "        \"Significativo (α=0.05)\": \"✅\" if p < 0.05 else \"❌\"\n",
    "    })\n",
    "\n",
    "pd.DataFrame(resultados_anova)"
   ]
  },
  {
   "cell_type": "markdown",
   "id": "91d6f54a",
   "metadata": {},
   "source": [
    "\\subsection*{Resultados do Experimento 4 – Alucinações Fatuais e Contextuais}\n",
    "\n",
    "O objetivo deste experimento foi verificar se a etapa de personalização textual — operada pelo módulo \\textit{Tailor} — introduz alucinações nas respostas, especialmente em situações onde o histórico factual completo não é disponibilizado ao agente. Avaliou-se, portanto, a robustez da personalização sob dois aspectos: (i) fidelidade às observações factuais (alucinação factual), e (ii) adequação interpretativa e estilística ao perfil-alvo (alucinação contextual e interpretativa).\n",
    "\n",
    "Foram utilizadas duas métricas específicas no processo de avaliação automatizada com LLMs: Inferências Não Justificadas e Foco Não Condizente com o Perfil. Cada resposta foi submetida a 20 rodadas de avaliação com diferentes seeds.\n",
    "\n",
    "\\paragraph{Inferências Não Justificadas.}\n",
    "Este critério buscou identificar a ocorrência de inferências que não se sustentam diretamente nos dados observacionais fornecidos. A análise revelou que, mesmo quando os dados factuais eram corretamente utilizados, as respostas geradas frequentemente incluíam juízos como “o jogador demonstrou comprometimento” ou “contribuiu significativamente para o time”. Embora esses trechos não representem erros numéricos, eles introduzem interpretações que não são comprováveis com base no histórico factual. Essas interpretações foram especialmente prevalentes em perfis de caráter mais narrativo (como “Torcedor do Time” e “Narrador”), onde a modelagem linguística tende a incorporar traços de empolgação e julgamento subjetivo.\n",
    "\n",
    "As pontuações médias nesse critério foram inferiores a 4,0 (em uma escala de 0 a 10), com desvio padrão baixo, sugerindo consistência nas inferências suaves porém não fundamentadas. Tais resultados indicam que o modelo adota padrões retóricos interpretativos que, embora não incorretos, extrapolam os dados disponíveis.\n",
    "\n",
    "\\paragraph{Foco Não Condizente com o Perfil.}\n",
    "Este critério avaliou se a resposta mantinha o tom, estilo e grau de detalhamento esperados para o perfil indicado. Observou-se que as respostas geradas com acesso ao histórico completo apresentaram maior aderência às expectativas do perfil-alvo, com linguagem técnica mais precisa para perfis profissionais e expressões mais envolventes e acessíveis para perfis leigos. Em contrapartida, quando o histórico era incompleto, o modelo apresentava um comportamento mais genérico, com estilo textual menos consistente com o perfil do usuário.\n",
    "\n",
    "As pontuações foram significativamente maiores para as respostas com histórico completo, sugerindo que a personalização se beneficia diretamente da presença de dados observacionais, tanto para a seleção de conteúdo quanto para a construção discursiva adequada ao perfil.\n",
    "\n",
    "\\paragraph{Conclusão e Implicações.}\n",
    "Os resultados obtidos corroboram a Hipótese 4, indicando que a personalização, embora eficaz, é sensível à presença de histórico factual completo. Quando esse histórico está ausente ou incompleto, a LLM tende a compensar com interpretações genéricas ou julgamentos estilísticos que não estão ancorados nos dados, levando a alucinações sutis de natureza interpretativa ou contextual.\n",
    "\n",
    "A avaliação demonstrou que:\n",
    "*  As alucinações factuais numéricas foram praticamente inexistentes, desde que os dados fossem disponibilizados corretamente ao agente.\n",
    "*  As alucinações interpretativas e contextuais ocorrem com frequência maior, especialmente em perfis subjetivos e na ausência de histórico completo.\n",
    "*  A presença do histórico factual atua como um fator moderador, reduzindo significativamente essas ocorrências.\n",
    "\n",
    "\n",
    "Esses achados reforçam a importância de garantir que o módulo de personalização opere sempre com base em observações confiáveis, e sugerem que estratégias de validação e filtragem de linguagem (ex: validação semântica baseada em lógica ou verificação factual via ferramentas auxiliares) podem ser implementadas para mitigar essas inferências não justificadas."
   ]
  },
  {
   "cell_type": "markdown",
   "id": "e230a47e",
   "metadata": {},
   "source": []
  }
 ],
 "metadata": {
  "kernelspec": {
   "display_name": ".venv",
   "language": "python",
   "name": "python3"
  },
  "language_info": {
   "codemirror_mode": {
    "name": "ipython",
    "version": 3
   },
   "file_extension": ".py",
   "mimetype": "text/x-python",
   "name": "python",
   "nbconvert_exporter": "python",
   "pygments_lexer": "ipython3",
   "version": "3.12.10"
  }
 },
 "nbformat": 4,
 "nbformat_minor": 5
}
